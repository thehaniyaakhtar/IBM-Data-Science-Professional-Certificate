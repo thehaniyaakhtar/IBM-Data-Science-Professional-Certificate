{
  "nbformat": 4,
  "nbformat_minor": 0,
  "metadata": {
    "colab": {
      "private_outputs": true,
      "provenance": []
    },
    "kernelspec": {
      "name": "python3",
      "display_name": "Python 3"
    },
    "language_info": {
      "name": "python"
    }
  },
  "cells": [
    {
      "cell_type": "markdown",
      "source": [
        "# Data Science Tools and Ecosystem\n"
      ],
      "metadata": {
        "id": "Hu6DKzQs-SJj"
      }
    },
    {
      "cell_type": "markdown",
      "source": [
        "## Introduction\n",
        "In this notebook, we summarize some of the popular tools, languages, and libraries used by data scientists. We also demonstrate simple arithmetic operations and unit conversions using Python.\n"
      ],
      "metadata": {
        "id": "gxG2EFCt-XPl"
      }
    },
    {
      "cell_type": "markdown",
      "source": [
        "## Data Science Languages\n",
        "Some of the popular languages used by data scientists include:\n",
        "- Python\n",
        "- R\n",
        "- SQL\n",
        "- Julia\n",
        "- Scala\n"
      ],
      "metadata": {
        "id": "87MqfEAZ-aT8"
      }
    },
    {
      "cell_type": "markdown",
      "source": [
        "## Data Science Libraries\n",
        "Commonly used libraries in data science are:\n",
        "- Pandas\n",
        "- NumPy\n",
        "- Matplotlib\n",
        "- Scikit-learn\n",
        "- TensorFlow\n"
      ],
      "metadata": {
        "id": "69I7Vx5I-cNy"
      }
    },
    {
      "cell_type": "markdown",
      "source": [
        "## Data Science Tools\n",
        "| Tool           | Category              |\n",
        "|----------------|-----------------------|\n",
        "| Jupyter Notebook | Interactive Development |\n",
        "| RStudio        | IDE for R             |\n",
        "| Apache Spark   | Big Data Processing   |\n",
        "| TensorFlow     | Machine Learning      |\n",
        "| Power BI       | Data Visualization    |\n"
      ],
      "metadata": {
        "id": "vgAexVtN-fy0"
      }
    },
    {
      "cell_type": "markdown",
      "source": [
        "## Arithmetic Expression Examples\n",
        "Below are examples of simple arithmetic expressions in Python:\n"
      ],
      "metadata": {
        "id": "0liX2Nae-htE"
      }
    },
    {
      "cell_type": "markdown",
      "source": [
        "# Multiply and add numbers\n"
      ],
      "metadata": {
        "id": "cFo4nJ-f-jzu"
      }
    },
    {
      "cell_type": "code",
      "execution_count": null,
      "metadata": {
        "id": "EzyWRQ2x-O8D"
      },
      "outputs": [],
      "source": [
        "# Multiply and add numbers\n",
        "result = (3 * 4) + 5\n",
        "result\n"
      ]
    },
    {
      "cell_type": "markdown",
      "source": [
        "# Convert minutes to hours\n",
        "\n"
      ],
      "metadata": {
        "id": "1uvNH7yC-vlY"
      }
    },
    {
      "cell_type": "code",
      "source": [
        "minutes = 120\n",
        "hours = minutes / 60\n",
        "hours"
      ],
      "metadata": {
        "id": "whLcZ3I5-tPT"
      },
      "execution_count": null,
      "outputs": []
    },
    {
      "cell_type": "markdown",
      "source": [
        "## Objectives\n",
        "The main objectives of this notebook are:\n",
        "- List popular data science languages\n",
        "- List common data science libraries\n",
        "- Provide examples of data science tools\n",
        "- Demonstrate basic arithmetic operations\n",
        "- Convert minutes to hours using Python\n"
      ],
      "metadata": {
        "id": "F43Ipxej-1Db"
      }
    },
    {
      "cell_type": "markdown",
      "source": [
        "## Author\n",
        "Author: Haniya Akhtar\n"
      ],
      "metadata": {
        "id": "637jexHl-33E"
      }
    }
  ]
}